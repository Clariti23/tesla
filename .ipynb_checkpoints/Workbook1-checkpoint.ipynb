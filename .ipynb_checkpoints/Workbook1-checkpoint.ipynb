{
 "cells": [
  {
   "cell_type": "code",
   "execution_count": 11,
   "metadata": {},
   "outputs": [
    {
     "name": "stdout",
     "output_type": "stream",
     "text": [
      "              High     Low      Mid    Last     Bid     Ask        Volume  \\\n",
      "Date                                                                        \n",
      "2014-07-26  600.88  589.00  593.450  593.13  593.13  593.77   4815.768012   \n",
      "2014-07-27  599.78  590.22  594.420  594.69  594.03  594.81   2763.260175   \n",
      "2014-07-28  594.84  572.00  586.525  586.54  586.52  586.53  11578.530383   \n",
      "2014-07-29  590.00  577.11  584.720  584.35  584.35  585.09   4312.295757   \n",
      "2014-07-30  585.00  561.70  563.570  563.64  563.50  563.64   6930.678924   \n",
      "\n",
      "                 100ma  \n",
      "Date                    \n",
      "2014-07-26  558.812598  \n",
      "2014-07-27  559.709498  \n",
      "2014-07-28  560.194898  \n",
      "2014-07-29  560.958398  \n",
      "2014-07-30  561.767298  \n"
     ]
    },
    {
     "data": {
      "text/plain": [
       "<matplotlib.axes._subplots.AxesSubplot at 0x11e916a30>"
      ]
     },
     "execution_count": 11,
     "metadata": {},
     "output_type": "execute_result"
    },
    {
     "data": {
      "image/png": "[encoded data removed]",
      "text/plain": [
       "<Figure size 432x288 with 1 Axes>"
      ]
     },
     "metadata": {},
     "output_type": "display_data"
    }
   ],
   "source": [
    "import datetime as dt\n",
    "import matplotlib.pyplot as plt\n",
    "from matplotlib import style\n",
    "import pandas as pd\n",
    "import pandas_datareader.data as web\n",
    "import quandl\n",
    "quandl.ApiConfig.api_key = \"KptHVXnYi7RdK5YUNGkx\"\n",
    "\n",
    "style.use('ggplot')\n",
    "\n",
    "start = dt.datetime(2010, 1, 1)\n",
    "end = dt.datetime(2019, 12, 31)\n",
    "\n",
    "# # symbol =\n",
    "# # df = web.DataReader('TSLA', 'quandl', start, end,\n",
    "# #                     api_key == 'KptHVXnYi7RdK5YUNGkx')\n",
    "# df = quandl.get(\"BITFINEX/BTCUSD\")\n",
    "# print(df)\n",
    "# df.to_csv('btc.csv')\n",
    "df = pd.read_csv('datasets/btc.csv', parse_dates=True, index_col=0)\n",
    "# print(df.head())\n",
    "df['100ma'] = df['Last'].rolling(window=100).mean()\n",
    "df.dropna(inplace=True)\n",
    "print(df.head())\n",
    "df['100ma'].plot()"
   ]
  },
  {
   "cell_type": "code",
   "execution_count": 4,
   "metadata": {},
   "outputs": [
    {
     "ename": "NameError",
     "evalue": "name 'df' is not defined",
     "output_type": "error",
     "traceback": [
      "\u001b[0;31m---------------------------------------------------------------------------\u001b[0m",
      "\u001b[0;31mNameError\u001b[0m                                 Traceback (most recent call last)",
      "\u001b[0;32m<ipython-input-4-00cf07b74dcd>\u001b[0m in \u001b[0;36m<module>\u001b[0;34m\u001b[0m\n\u001b[0;32m----> 1\u001b[0;31m \u001b[0mdf\u001b[0m\u001b[0;34m\u001b[0m\u001b[0;34m\u001b[0m\u001b[0m\n\u001b[0m",
      "\u001b[0;31mNameError\u001b[0m: name 'df' is not defined"
     ]
    }
   ],
   "source": []
  },
  {
   "cell_type": "code",
   "execution_count": null,
   "metadata": {},
   "outputs": [],
   "source": []
  },
  {
   "cell_type": "code",
   "execution_count": null,
   "metadata": {},
   "outputs": [],
   "source": []
  }
 ],
 "metadata": {
  "kernelspec": {
   "display_name": "Python 3",
   "language": "python",
   "name": "python3"
  },
  "language_info": {
   "codemirror_mode": {
    "name": "ipython",
    "version": 3
   },
   "file_extension": ".py",
   "mimetype": "text/x-python",
   "name": "python",
   "nbconvert_exporter": "python",
   "pygments_lexer": "ipython3",
   "version": "3.8.2"
  }
 },
 "nbformat": 4,
 "nbformat_minor": 4
}
